{
  "nbformat": 4,
  "nbformat_minor": 0,
  "metadata": {
    "colab": {
      "provenance": [],
      "authorship_tag": "ABX9TyOtH7m6ruLDvqBLjIujIhhY",
      "include_colab_link": true
    },
    "kernelspec": {
      "name": "python3",
      "display_name": "Python 3"
    },
    "language_info": {
      "name": "python"
    }
  },
  "cells": [
    {
      "cell_type": "markdown",
      "metadata": {
        "id": "view-in-github",
        "colab_type": "text"
      },
      "source": [
        "<a href=\"https://colab.research.google.com/github/lamtruong2002/BaitapAItuan8/blob/main/crabs_1.ipynb\" target=\"_parent\"><img src=\"https://colab.research.google.com/assets/colab-badge.svg\" alt=\"Open In Colab\"/></a>"
      ]
    },
    {
      "cell_type": "code",
      "execution_count": 17,
      "metadata": {
        "colab": {
          "base_uri": "https://localhost:8080/"
        },
        "id": "rEX5S1NK-4lN",
        "outputId": "3ce41a69-63ff-4370-b79f-28b305fe9f2e"
      },
      "outputs": [
        {
          "output_type": "stream",
          "name": "stdout",
          "text": [
            "  speies sex  index  fontallip  rearwidth  length  width  depth\n",
            "0      B   M      1        8.1        6.7    16.1   19.0    7.0\n",
            "1      B   M      2        8.8        7.7    18.1   20.8    7.4\n",
            "2      B   M      3        9.2        7.8    19.0   22.4    7.7\n",
            "3      B   M      4        9.6        7.9    20.1   23.1    8.2\n",
            "4      B   M      5        9.8        8.0    20.3   23.0    8.2\n",
            "(200, 8)\n",
            "[1 1 0 1 1 0 1 0 0 1 0 0 1 0 1 1 0 0 1 0 0 1 1 0 1 1 1 0 1 0]\n",
            "Do chinh xac cua mo hinh:  0.8333333333333334\n"
          ]
        }
      ],
      "source": [
        "\n",
        "import pandas as pd\n",
        "import matplotlib.pyplot as plt\n",
        "import numpy as np\n",
        "import seaborn as sas\n",
        "from sklearn import datasets\n",
        "from sklearn.linear_model import Perceptron\n",
        "from sklearn.model_selection import train_test_split # chia dữ liệu thành 2 phần để train và test\n",
        "from sklearn.metrics import accuracy_score\n",
        "from sklearn.preprocessing import StandardScaler\n",
        "data = pd.read_csv('crabs.csv')\n",
        "print(data.head())\n",
        "print(data.shape)\n",
        "\n",
        "data.drop(data.index[100:200],axis=0, inplace=True)\n",
        "data.shape\n",
        "\n",
        "data.replace(to_replace=\"M\",value=0, inplace=True)\n",
        "data.replace(to_replace=\"F\",value=1, inplace=True)\n",
        "data.head()\n",
        "\n",
        "data.drop(data.columns[[0,2]], axis=1, inplace=True)\n",
        "data.head()\n",
        "\n",
        "X = data[['fontallip', 'rearwidth', 'length', 'width', 'depth']].to_numpy()\n",
        "y = data['sex'].to_numpy()\n",
        "X_train, X_test, y_train, y_test = train_test_split(X, y, test_size=0.3)\n",
        "sc = StandardScaler()\n",
        "sc.fit(X_train)\n",
        "X_train_std = sc.transform(X_train)\n",
        "X_test_std = sc.transform(X_test)\n",
        "\n",
        "model = Perceptron(max_iter=40, eta0=0.1, random_state=0) #max_iter: số lần học, eta0: tốc độ học (càng lớn, sai số càng nhiều)\n",
        "model.fit(X_train_std,y_train)\n",
        "y_pred = model.predict(X_test_std)\n",
        "print(y_pred)\n",
        "print(\"Do chinh xac cua mo hinh: \", accuracy_score(y_test,y_pred))"
      ]
    }
  ]
}