{
  "nbformat": 4,
  "nbformat_minor": 0,
  "metadata": {
    "colab": {
      "provenance": [],
      "authorship_tag": "ABX9TyMzmczWF7Jg/gDL7HkeY3my",
      "include_colab_link": true
    },
    "kernelspec": {
      "name": "python3",
      "display_name": "Python 3"
    },
    "language_info": {
      "name": "python"
    }
  },
  "cells": [
    {
      "cell_type": "markdown",
      "metadata": {
        "id": "view-in-github",
        "colab_type": "text"
      },
      "source": [
        "<a href=\"https://colab.research.google.com/github/lamtruong2002/BaitapAItuan8/blob/main/lung_cancer_examples.ipynb\" target=\"_parent\"><img src=\"https://colab.research.google.com/assets/colab-badge.svg\" alt=\"Open In Colab\"/></a>"
      ]
    },
    {
      "cell_type": "code",
      "execution_count": 16,
      "metadata": {
        "colab": {
          "base_uri": "https://localhost:8080/"
        },
        "id": "2nDOdGh_nIZI",
        "outputId": "0c0dae65-350f-4ce3-899e-c38848d48fd8"
      },
      "outputs": [
        {
          "output_type": "stream",
          "name": "stdout",
          "text": [
            "     Name      Surname  Age  Smokes  AreaQ  Alkhol  Result\n",
            "0    John         Wick   35       3      5       4       1\n",
            "1    John  Constantine   27      20      2       5       1\n",
            "2  Camela     Anderson   30       0      5       2       0\n",
            "3    Alex       Telles   28       0      8       1       0\n",
            "4   Diego     Maradona   68       4      5       6       1\n",
            "(59, 7)\n",
            "[[35  3  5  4]\n",
            " [27 20  2  5]\n",
            " [30  0  5  2]\n",
            " [28  0  8  1]\n",
            " [68  4  5  6]]\n",
            "[1 1 0 0 1]\n",
            "[[-1.03595796 -0.28232346  0.36327627 -1.02236092]\n",
            " [ 2.04875165  0.66547673 -0.06357335  0.35052374]\n",
            " [ 0.5971236   0.66547673  0.36327627 -0.10710448]\n",
            " [ 1.80681364 -0.68852354  0.79012588  1.26578018]\n",
            " [ 0.89954611 -0.01152341  2.07067473 -1.47998914]]\n",
            "[0 0 0 1 1 1 1 1 0 1 0 0]\n",
            "[0 0 0 1 1 1 1 1 0 1 0 0]\n",
            "Do chinh xac cua mo hinh:  1.0\n"
          ]
        }
      ],
      "source": [
        "import pandas as pd\n",
        "import matplotlib.pyplot as plt\n",
        "import numpy as np\n",
        "import seaborn as sas\n",
        "from sklearn import datasets\n",
        "from sklearn.linear_model import Perceptron\n",
        "from sklearn.model_selection import train_test_split \n",
        "from sklearn.metrics import accuracy_score\n",
        "from sklearn.preprocessing import StandardScaler\n",
        "data = pd.read_csv('lung_cancer_examples.csv')\n",
        "print(data.head())\n",
        "print(data.shape)\n",
        "data.head()\n",
        "data.drop(data.columns[[0,1]], axis=1, inplace=True)\n",
        "X = data[['Age', 'Smokes', 'AreaQ', 'Alkhol']].to_numpy()\n",
        "y = data['Result'].to_numpy()\n",
        "print(X[:5])\n",
        "print(y[:5])\n",
        "X_train, X_test, y_train, y_test = train_test_split(X, y, test_size=0.2)\n",
        "sc = StandardScaler()\n",
        "sc.fit(X_train)\n",
        "X_train_std = sc.transform(X_train)\n",
        "X_test_std = sc.transform(X_test)\n",
        "print(X_train_std[:5])\n",
        "model = Perceptron(max_iter=40, eta0=0.1, random_state=0)\n",
        "model.fit(X_train_std,y_train)\n",
        "y_pred = model.predict(X_test_std)\n",
        "print(y_pred)\n",
        "print(y_test)\n",
        "print(\"Do chinh xac cua mo hinh: \", accuracy_score(y_test,y_pred))"
      ]
    }
  ]
}