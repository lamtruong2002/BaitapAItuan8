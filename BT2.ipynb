{
  "nbformat": 4,
  "nbformat_minor": 0,
  "metadata": {
    "colab": {
      "provenance": [],
      "authorship_tag": "ABX9TyM1VRoJB4Z4eY0JGfV/6H+9",
      "include_colab_link": true
    },
    "kernelspec": {
      "name": "python3",
      "display_name": "Python 3"
    },
    "language_info": {
      "name": "python"
    }
  },
  "cells": [
    {
      "cell_type": "markdown",
      "metadata": {
        "id": "view-in-github",
        "colab_type": "text"
      },
      "source": [
        "<a href=\"https://colab.research.google.com/github/lamtruong2002/BaitapAItuan8/blob/main/BT2.ipynb\" target=\"_parent\"><img src=\"https://colab.research.google.com/assets/colab-badge.svg\" alt=\"Open In Colab\"/></a>"
      ]
    },
    {
      "cell_type": "code",
      "execution_count": 18,
      "metadata": {
        "id": "KPs75onVxpzE"
      },
      "outputs": [],
      "source": [
        "from sklearn import datasets\n",
        "from sklearn.linear_model import Perceptron\n",
        "from sklearn.model_selection import train_test_split #chia du lieu train va test\n",
        "from sklearn.metrics import accuracy_score\n",
        "from sklearn.preprocessing import StandardScaler #chuan hoa du lieu cho dữ liệu đều nhau\n",
        "\n",
        "\n",
        "import pandas as pd\n",
        "import matplotlib.pyplot as plt\n",
        "import numpy as np\n",
        "import seaborn as sas\n",
        "\n"
      ]
    },
    {
      "cell_type": "code",
      "source": [
        "iris=datasets.load_iris()\n",
        "X=iris.data\n",
        "y=iris.target\n",
        "print(X[:5])\n",
        "print(y[:5])\n",
        "X_train,X_test,y_train,y_test=train_test_split(X,y,test_size=0.3)\n",
        "sc=StandardScaler()\n",
        "sc.fit(X_train)\n",
        "X_train_std=sc.transform(X_train)\n",
        "X_test_std=sc.transform(X_test)\n",
        "\n",
        "model=Perceptron(max_iter=40,eta0=0.1,random_state=0) #max_iter là số lần học, tốc độ học nhỏ hơn 1, càng lớn sai số nhiều\n",
        "model.fit(X_train_std,y_train)\n",
        "y_pred=model.predict(X_test_std)\n",
        "print(y_pred)\n",
        "print(y_test)\n",
        "print('Độ chính xác của mô hình:',accuracy_score(y_test,y_pred))"
      ],
      "metadata": {
        "colab": {
          "base_uri": "https://localhost:8080/"
        },
        "id": "hz5x5nfYxx8S",
        "outputId": "e9c79fee-19cf-4d5a-bc44-741e09c65208"
      },
      "execution_count": 49,
      "outputs": [
        {
          "output_type": "stream",
          "name": "stdout",
          "text": [
            "[[5.1 3.5 1.4 0.2]\n",
            " [4.9 3.  1.4 0.2]\n",
            " [4.7 3.2 1.3 0.2]\n",
            " [4.6 3.1 1.5 0.2]\n",
            " [5.  3.6 1.4 0.2]]\n",
            "[0 0 0 0 0]\n",
            "[0 0 0 0 2 2 0 1 1 0 2 2 1 0 2 0 1 0 0 0 1 2 0 2 1 0 2 1 2 1 2 2 0 2 2 1 2\n",
            " 2 2 2 0 1 1 1 1]\n",
            "[0 0 0 0 2 2 0 1 1 0 2 2 1 0 2 0 1 0 0 0 1 2 0 2 2 0 2 1 2 0 1 2 0 2 2 1 1\n",
            " 2 2 1 0 1 2 1 1]\n",
            "Độ chính xác của mô hình: 0.8666666666666667\n"
          ]
        }
      ]
    }
  ]
}